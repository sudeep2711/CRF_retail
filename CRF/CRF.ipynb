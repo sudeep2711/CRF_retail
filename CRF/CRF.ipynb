{
 "cells": [
  {
   "cell_type": "code",
   "execution_count": 30,
   "metadata": {},
   "outputs": [],
   "source": [
    "# Importing required Libraries\n",
    "import pandas as pd"
   ]
  },
  {
   "cell_type": "code",
   "execution_count": 31,
   "metadata": {},
   "outputs": [
    {
     "data": {
      "text/html": [
       "<div>\n",
       "<style scoped>\n",
       "    .dataframe tbody tr th:only-of-type {\n",
       "        vertical-align: middle;\n",
       "    }\n",
       "\n",
       "    .dataframe tbody tr th {\n",
       "        vertical-align: top;\n",
       "    }\n",
       "\n",
       "    .dataframe thead th {\n",
       "        text-align: right;\n",
       "    }\n",
       "</style>\n",
       "<table border=\"1\" class=\"dataframe\">\n",
       "  <thead>\n",
       "    <tr style=\"text-align: right;\">\n",
       "      <th></th>\n",
       "      <th>date</th>\n",
       "      <th>location_ordinal</th>\n",
       "      <th>sku</th>\n",
       "      <th>price</th>\n",
       "      <th>discount</th>\n",
       "      <th>color_desc</th>\n",
       "      <th>style_desc</th>\n",
       "      <th>pid_desc</th>\n",
       "      <th>district_ordinal</th>\n",
       "      <th>state_ordinal</th>\n",
       "      <th>Discount</th>\n",
       "      <th>store_ID</th>\n",
       "    </tr>\n",
       "  </thead>\n",
       "  <tbody>\n",
       "    <tr>\n",
       "      <th>0</th>\n",
       "      <td>20160131</td>\n",
       "      <td>1</td>\n",
       "      <td>234</td>\n",
       "      <td>8.0</td>\n",
       "      <td>2.61</td>\n",
       "      <td>BLACK</td>\n",
       "      <td>SML BLK HTHR HP BSC</td>\n",
       "      <td>SML BLK HTHR HP BSC</td>\n",
       "      <td>6</td>\n",
       "      <td>9</td>\n",
       "      <td>0.32625</td>\n",
       "      <td>961</td>\n",
       "    </tr>\n",
       "    <tr>\n",
       "      <th>1</th>\n",
       "      <td>20160131</td>\n",
       "      <td>1</td>\n",
       "      <td>325</td>\n",
       "      <td>8.0</td>\n",
       "      <td>2.61</td>\n",
       "      <td>GREY/BLACK</td>\n",
       "      <td>SM GRY/BK STP BS BSC</td>\n",
       "      <td>SM GRY/BK STP BS BSC</td>\n",
       "      <td>6</td>\n",
       "      <td>9</td>\n",
       "      <td>0.32625</td>\n",
       "      <td>961</td>\n",
       "    </tr>\n",
       "    <tr>\n",
       "      <th>2</th>\n",
       "      <td>20160131</td>\n",
       "      <td>1</td>\n",
       "      <td>454</td>\n",
       "      <td>8.0</td>\n",
       "      <td>2.60</td>\n",
       "      <td>SUGARED AL</td>\n",
       "      <td>SMLS NUDE BS BSC</td>\n",
       "      <td>SMLS NUDE BS BSC</td>\n",
       "      <td>6</td>\n",
       "      <td>9</td>\n",
       "      <td>0.32500</td>\n",
       "      <td>961</td>\n",
       "    </tr>\n",
       "    <tr>\n",
       "      <th>3</th>\n",
       "      <td>20160131</td>\n",
       "      <td>1</td>\n",
       "      <td>456</td>\n",
       "      <td>8.0</td>\n",
       "      <td>2.58</td>\n",
       "      <td>SUGARED AL</td>\n",
       "      <td>SMLS NUDE BS BSC</td>\n",
       "      <td>SMLS NUDE BS BSC</td>\n",
       "      <td>6</td>\n",
       "      <td>9</td>\n",
       "      <td>0.32250</td>\n",
       "      <td>961</td>\n",
       "    </tr>\n",
       "    <tr>\n",
       "      <th>4</th>\n",
       "      <td>20160131</td>\n",
       "      <td>1</td>\n",
       "      <td>458</td>\n",
       "      <td>8.0</td>\n",
       "      <td>2.61</td>\n",
       "      <td>SUGARED AL</td>\n",
       "      <td>SMLS NUDE BS BSC</td>\n",
       "      <td>SMLS NUDE BS BSC</td>\n",
       "      <td>6</td>\n",
       "      <td>9</td>\n",
       "      <td>0.32625</td>\n",
       "      <td>961</td>\n",
       "    </tr>\n",
       "  </tbody>\n",
       "</table>\n",
       "</div>"
      ],
      "text/plain": [
       "       date  location_ordinal  sku  price  discount  color_desc  \\\n",
       "0  20160131                 1  234    8.0      2.61       BLACK   \n",
       "1  20160131                 1  325    8.0      2.61  GREY/BLACK   \n",
       "2  20160131                 1  454    8.0      2.60  SUGARED AL   \n",
       "3  20160131                 1  456    8.0      2.58  SUGARED AL   \n",
       "4  20160131                 1  458    8.0      2.61  SUGARED AL   \n",
       "\n",
       "             style_desc              pid_desc  district_ordinal  \\\n",
       "0   SML BLK HTHR HP BSC   SML BLK HTHR HP BSC                 6   \n",
       "1  SM GRY/BK STP BS BSC  SM GRY/BK STP BS BSC                 6   \n",
       "2      SMLS NUDE BS BSC      SMLS NUDE BS BSC                 6   \n",
       "3      SMLS NUDE BS BSC      SMLS NUDE BS BSC                 6   \n",
       "4      SMLS NUDE BS BSC      SMLS NUDE BS BSC                 6   \n",
       "\n",
       "   state_ordinal  Discount  store_ID  \n",
       "0              9   0.32625       961  \n",
       "1              9   0.32625       961  \n",
       "2              9   0.32500       961  \n",
       "3              9   0.32250       961  \n",
       "4              9   0.32625       961  "
      ]
     },
     "execution_count": 31,
     "metadata": {},
     "output_type": "execute_result"
    }
   ],
   "source": [
    "data=pd.read_csv('Converted_file.csv')\n",
    "data.head()"
   ]
  },
  {
   "cell_type": "markdown",
   "metadata": {},
   "source": [
    "## Data Cleaning"
   ]
  },
  {
   "cell_type": "code",
   "execution_count": 39,
   "metadata": {},
   "outputs": [
    {
     "data": {
      "text/html": [
       "<div>\n",
       "<style scoped>\n",
       "    .dataframe tbody tr th:only-of-type {\n",
       "        vertical-align: middle;\n",
       "    }\n",
       "\n",
       "    .dataframe tbody tr th {\n",
       "        vertical-align: top;\n",
       "    }\n",
       "\n",
       "    .dataframe thead th {\n",
       "        text-align: right;\n",
       "    }\n",
       "</style>\n",
       "<table border=\"1\" class=\"dataframe\">\n",
       "  <thead>\n",
       "    <tr style=\"text-align: right;\">\n",
       "      <th></th>\n",
       "      <th>date</th>\n",
       "      <th>location_ordinal</th>\n",
       "      <th>sku</th>\n",
       "      <th>price</th>\n",
       "      <th>discount</th>\n",
       "      <th>color_desc</th>\n",
       "      <th>style_desc</th>\n",
       "      <th>pid_desc</th>\n",
       "      <th>district_ordinal</th>\n",
       "      <th>state_ordinal</th>\n",
       "      <th>Discount</th>\n",
       "      <th>store_ID</th>\n",
       "    </tr>\n",
       "  </thead>\n",
       "  <tbody>\n",
       "    <tr>\n",
       "      <th>0</th>\n",
       "      <td>2016-01-31</td>\n",
       "      <td>1</td>\n",
       "      <td>234</td>\n",
       "      <td>8.0</td>\n",
       "      <td>2.61</td>\n",
       "      <td>BLACK</td>\n",
       "      <td>SML BLK HTHR HP BSC</td>\n",
       "      <td>SML BLK HTHR HP BSC</td>\n",
       "      <td>6</td>\n",
       "      <td>9</td>\n",
       "      <td>0.32625</td>\n",
       "      <td>961</td>\n",
       "    </tr>\n",
       "    <tr>\n",
       "      <th>1</th>\n",
       "      <td>2016-01-31</td>\n",
       "      <td>1</td>\n",
       "      <td>325</td>\n",
       "      <td>8.0</td>\n",
       "      <td>2.61</td>\n",
       "      <td>GREY/BLACK</td>\n",
       "      <td>SM GRY/BK STP BS BSC</td>\n",
       "      <td>SM GRY/BK STP BS BSC</td>\n",
       "      <td>6</td>\n",
       "      <td>9</td>\n",
       "      <td>0.32625</td>\n",
       "      <td>961</td>\n",
       "    </tr>\n",
       "    <tr>\n",
       "      <th>2</th>\n",
       "      <td>2016-01-31</td>\n",
       "      <td>1</td>\n",
       "      <td>454</td>\n",
       "      <td>8.0</td>\n",
       "      <td>2.60</td>\n",
       "      <td>SUGARED AL</td>\n",
       "      <td>SMLS NUDE BS BSC</td>\n",
       "      <td>SMLS NUDE BS BSC</td>\n",
       "      <td>6</td>\n",
       "      <td>9</td>\n",
       "      <td>0.32500</td>\n",
       "      <td>961</td>\n",
       "    </tr>\n",
       "    <tr>\n",
       "      <th>3</th>\n",
       "      <td>2016-01-31</td>\n",
       "      <td>1</td>\n",
       "      <td>456</td>\n",
       "      <td>8.0</td>\n",
       "      <td>2.58</td>\n",
       "      <td>SUGARED AL</td>\n",
       "      <td>SMLS NUDE BS BSC</td>\n",
       "      <td>SMLS NUDE BS BSC</td>\n",
       "      <td>6</td>\n",
       "      <td>9</td>\n",
       "      <td>0.32250</td>\n",
       "      <td>961</td>\n",
       "    </tr>\n",
       "    <tr>\n",
       "      <th>4</th>\n",
       "      <td>2016-01-31</td>\n",
       "      <td>1</td>\n",
       "      <td>458</td>\n",
       "      <td>8.0</td>\n",
       "      <td>2.61</td>\n",
       "      <td>SUGARED AL</td>\n",
       "      <td>SMLS NUDE BS BSC</td>\n",
       "      <td>SMLS NUDE BS BSC</td>\n",
       "      <td>6</td>\n",
       "      <td>9</td>\n",
       "      <td>0.32625</td>\n",
       "      <td>961</td>\n",
       "    </tr>\n",
       "  </tbody>\n",
       "</table>\n",
       "</div>"
      ],
      "text/plain": [
       "        date  location_ordinal  sku  price  discount  color_desc  \\\n",
       "0 2016-01-31                 1  234    8.0      2.61       BLACK   \n",
       "1 2016-01-31                 1  325    8.0      2.61  GREY/BLACK   \n",
       "2 2016-01-31                 1  454    8.0      2.60  SUGARED AL   \n",
       "3 2016-01-31                 1  456    8.0      2.58  SUGARED AL   \n",
       "4 2016-01-31                 1  458    8.0      2.61  SUGARED AL   \n",
       "\n",
       "             style_desc              pid_desc  district_ordinal  \\\n",
       "0   SML BLK HTHR HP BSC   SML BLK HTHR HP BSC                 6   \n",
       "1  SM GRY/BK STP BS BSC  SM GRY/BK STP BS BSC                 6   \n",
       "2      SMLS NUDE BS BSC      SMLS NUDE BS BSC                 6   \n",
       "3      SMLS NUDE BS BSC      SMLS NUDE BS BSC                 6   \n",
       "4      SMLS NUDE BS BSC      SMLS NUDE BS BSC                 6   \n",
       "\n",
       "   state_ordinal  Discount  store_ID  \n",
       "0              9   0.32625       961  \n",
       "1              9   0.32625       961  \n",
       "2              9   0.32500       961  \n",
       "3              9   0.32250       961  \n",
       "4              9   0.32625       961  "
      ]
     },
     "execution_count": 39,
     "metadata": {},
     "output_type": "execute_result"
    }
   ],
   "source": [
    "# Changing the 7.98 price to 8\n",
    "data.loc[data['price'] == 7.98, 'price'] = 8\n",
    "# Removing data with negative values of discount\n",
    "data=data.loc[data['discount']>=0,]\n",
    "# Converting 'date' column to required date format\n",
    "data['date'].apply(lambda x: pd.to_datetime(str(x), format='%Y%m%d'))\n",
    "data.head()"
   ]
  },
  {
   "cell_type": "code",
   "execution_count": 44,
   "metadata": {},
   "outputs": [],
   "source": [
    "# Finding number of entries for Store-SKU combination\n",
    "store_sku_counts=data.groupby(['sku', 'store_ID']).size().reset_index(name='counts')"
   ]
  },
  {
   "cell_type": "code",
   "execution_count": 49,
   "metadata": {},
   "outputs": [
    {
     "data": {
      "text/html": [
       "<div>\n",
       "<style scoped>\n",
       "    .dataframe tbody tr th:only-of-type {\n",
       "        vertical-align: middle;\n",
       "    }\n",
       "\n",
       "    .dataframe tbody tr th {\n",
       "        vertical-align: top;\n",
       "    }\n",
       "\n",
       "    .dataframe thead th {\n",
       "        text-align: right;\n",
       "    }\n",
       "</style>\n",
       "<table border=\"1\" class=\"dataframe\">\n",
       "  <thead>\n",
       "    <tr style=\"text-align: right;\">\n",
       "      <th></th>\n",
       "      <th>sku</th>\n",
       "      <th>store_ID</th>\n",
       "      <th>counts</th>\n",
       "    </tr>\n",
       "  </thead>\n",
       "  <tbody>\n",
       "    <tr>\n",
       "      <th>37799</th>\n",
       "      <td>656</td>\n",
       "      <td>943</td>\n",
       "      <td>380</td>\n",
       "    </tr>\n",
       "  </tbody>\n",
       "</table>\n",
       "</div>"
      ],
      "text/plain": [
       "       sku  store_ID  counts\n",
       "37799  656       943     380"
      ]
     },
     "execution_count": 49,
     "metadata": {},
     "output_type": "execute_result"
    }
   ],
   "source": [
    "store_sku_counts[store_sku_counts.counts==store_sku_counts.counts.max()]"
   ]
  },
  {
   "cell_type": "code",
   "execution_count": 52,
   "metadata": {},
   "outputs": [],
   "source": [
    "# Using store number 943 and  sku 656 for our initial CRF\n",
    "crf_store_sku=data[(data.sku==656) & (data.store_ID==943)]\n"
   ]
  },
  {
   "cell_type": "code",
   "execution_count": 66,
   "metadata": {},
   "outputs": [],
   "source": [
    "x_values=crf_store_sku.date.reset_index(drop=1)\n",
    "y_values=crf_store_sku.Discount.reset_index(drop=1)"
   ]
  },
  {
   "cell_type": "code",
   "execution_count": 68,
   "metadata": {},
   "outputs": [],
   "source": [
    "import matplotlib.pyplot as plt"
   ]
  },
  {
   "cell_type": "code",
   "execution_count": 69,
   "metadata": {},
   "outputs": [
    {
     "data": {
      "text/plain": [
       "[<matplotlib.lines.Line2D at 0x26a790fe588>]"
      ]
     },
     "execution_count": 69,
     "metadata": {},
     "output_type": "execute_result"
    },
    {
     "data": {
      "image/png": "[encoded data removed]",
      "text/plain": [
       "<matplotlib.figure.Figure at 0x26a6ff3fda0>"
      ]
     },
     "metadata": {},
     "output_type": "display_data"
    }
   ],
   "source": [
    "plt.plot(x_values,y_values)"
   ]
  },
  {
   "cell_type": "code",
   "execution_count": 70,
   "metadata": {},
   "outputs": [
    {
     "data": {
      "text/plain": [
       "<matplotlib.axes._subplots.AxesSubplot at 0x26a76ab99b0>"
      ]
     },
     "execution_count": 70,
     "metadata": {},
     "output_type": "execute_result"
    },
    {
     "data": {
      "image/png": "[encoded data removed]",
      "text/plain": [
       "<matplotlib.figure.Figure at 0x26a76afa278>"
      ]
     },
     "metadata": {},
     "output_type": "display_data"
    }
   ],
   "source": [
    "crf_store_sku.Discount.hist()"
   ]
  },
  {
   "cell_type": "code",
   "execution_count": 75,
   "metadata": {},
   "outputs": [],
   "source": [
    "crf_store_sku2=data[(data.store_ID==943) & (data.style_desc=='PCTN BLACK BK')&]"
   ]
  },
  {
   "cell_type": "code",
   "execution_count": 85,
   "metadata": {},
   "outputs": [
    {
     "data": {
      "text/plain": [
       "651    353\n",
       "652    341\n",
       "650    231\n",
       "653    140\n",
       "649     40\n",
       "151     13\n",
       "Name: sku, dtype: int64"
      ]
     },
     "execution_count": 85,
     "metadata": {},
     "output_type": "execute_result"
    }
   ],
   "source": [
    "crf_store_sku2.sku.value_counts()"
   ]
  },
  {
   "cell_type": "code",
   "execution_count": 86,
   "metadata": {},
   "outputs": [],
   "source": [
    "sku_651=crf_store_sku2[crf_store_sku2.sku==651]\n",
    "sku_652=crf_store_sku2[crf_store_sku2.sku==652]"
   ]
  },
  {
   "cell_type": "code",
   "execution_count": 88,
   "metadata": {},
   "outputs": [],
   "source": [
    "sku_651.to_csv('sku_651.csv')\n",
    "sku_652.to_csv('sku_652.csv')"
   ]
  },
  {
   "cell_type": "markdown",
   "metadata": {},
   "source": [
    "0 --> A\n",
    "\n",
    "0-20--> B\n",
    "\n",
    "20-35--> C\n",
    "\n",
    "35-40--> D\n",
    "\n",
    "40-60-->E\n",
    "\n",
    "60+-->F"
   ]
  },
  {
   "cell_type": "code",
   "execution_count": 91,
   "metadata": {},
   "outputs": [],
   "source": [
    "# Genrating buckets for discount percentage\n",
    "def generate_bucket(discount):\n",
    "    if(discount==0):\n",
    "        return('A')\n",
    "    elif(discount<0.20):\n",
    "        return('B')\n",
    "    elif(discount<0.35):\n",
    "        return('C')\n",
    "    elif(discount<0.40):\n",
    "        return('D')\n",
    "    elif(discount<0.60):\n",
    "        return('E')\n",
    "    else:\n",
    "        return('F')\n",
    "        "
   ]
  },
  {
   "cell_type": "code",
   "execution_count": 98,
   "metadata": {},
   "outputs": [
    {
     "name": "stderr",
     "output_type": "stream",
     "text": [
      "C:\\Users\\Gautam\\Anaconda3\\lib\\site-packages\\ipykernel_launcher.py:1: SettingWithCopyWarning: \n",
      "A value is trying to be set on a copy of a slice from a DataFrame.\n",
      "Try using .loc[row_indexer,col_indexer] = value instead\n",
      "\n",
      "See the caveats in the documentation: http://pandas.pydata.org/pandas-docs/stable/indexing.html#indexing-view-versus-copy\n",
      "  \"\"\"Entry point for launching an IPython kernel.\n"
     ]
    }
   ],
   "source": [
    "crf_store_sku['discount_bucket']=crf_store_sku.Discount.apply(generate_bucket)"
   ]
  },
  {
   "cell_type": "code",
   "execution_count": 105,
   "metadata": {},
   "outputs": [],
   "source": [
    "crf_store_sku=crf_store_sku.reset_index(drop=1)\n",
    "# Generating Min date\n",
    "min_date=data.date.min()\n",
    "#Finding week_number\n"
   ]
  },
  {
   "cell_type": "code",
   "execution_count": 121,
   "metadata": {},
   "outputs": [],
   "source": [
    "week_number=[]\n",
    "for i in range(0,len(crf_store_sku.date) ):\n",
    "    week_number.append(round((crf_store_sku.date[i]-min_date).days/7))"
   ]
  },
  {
   "cell_type": "code",
   "execution_count": 123,
   "metadata": {},
   "outputs": [],
   "source": [
    "crf_store_sku['week_number']=week_number"
   ]
  },
  {
   "cell_type": "code",
   "execution_count": 125,
   "metadata": {},
   "outputs": [
    {
     "data": {
      "text/plain": [
       "array([  1,   6,   5,   7,   8,   9,  10,  11,  13,  12,  14,  15,  16,\n",
       "        17,  19,  18,  20,  21,  22,  23,  24,  25,  26,  27,  28,  29,\n",
       "        30,  31,  32,  33,  34,  35,  37,  36,  38,  40,  39,  42,  43,\n",
       "        44,  45,  46,  47,  48,  49,  52,  51,  53,  54,  55,  56,  62,\n",
       "        61,  63,  64,  65,  66,  68,  69,  70,  71,  72,  73,  74,  75,\n",
       "        76,  77,  78,  80,  81,  83,  82,  84,  85,  86,  87,  88,  91,\n",
       "        90,  93,  92,  94,  95,  96,  97,  98, 100,  99, 101, 103, 102,\n",
       "       104, 105, 106, 107, 108, 110, 109, 111, 112, 113, 114, 116, 117,\n",
       "       119, 120, 121, 123, 124, 125, 126, 127, 128, 129, 130, 131, 132,\n",
       "       133, 134], dtype=int64)"
      ]
     },
     "execution_count": 125,
     "metadata": {},
     "output_type": "execute_result"
    }
   ],
   "source": [
    "crf_store_sku.week_number.unique()"
   ]
  },
  {
   "cell_type": "code",
   "execution_count": 127,
   "metadata": {},
   "outputs": [],
   "source": [
    "weekly_data=pd.read_csv('651and652_Average.csv')"
   ]
  },
  {
   "cell_type": "code",
   "execution_count": 129,
   "metadata": {},
   "outputs": [],
   "source": [
    "weekly_data['discount_bucket']=weekly_data.Avg.apply(generate_bucket)"
   ]
  },
  {
   "cell_type": "code",
   "execution_count": 134,
   "metadata": {},
   "outputs": [
    {
     "data": {
      "text/plain": [
       "array([  1,   2,   3,   4,   5,   6,   7,   8,   9,  10,  11,  12,  13,\n",
       "        14,  15,  16,  17,  18,  19,  20,  21,  22,  23,  24,  25,  26,\n",
       "        27,  28,  29,  30,  31,  32,  33,  34,  35,  36,  37,  38,  39,\n",
       "        40,  41,  42,  43,  44,  45,  46,  47,  48,  49,  50,  51,  52,\n",
       "        53,  54,  55,  56,  57,  58,  59,  60,  61,  62,  63,  64,  65,\n",
       "        66,  67,  68,  69,  70,  71,  72,  73,  74,  75,  76,  77,  78,\n",
       "        79,  80,  81,  82,  83,  84,  85,  86,  87,  88,  89,  90,  91,\n",
       "        92,  93,  94,  95,  96,  97,  98,  99, 100, 101, 102, 103, 104,\n",
       "       105, 106, 107, 108, 109, 110, 111, 112, 113, 114, 115, 116, 117,\n",
       "       118, 119, 120, 121, 122, 123, 124, 125, 126, 127, 128, 129, 130,\n",
       "       131, 132, 133], dtype=int64)"
      ]
     },
     "execution_count": 134,
     "metadata": {},
     "output_type": "execute_result"
    }
   ],
   "source": [
    "weekly_data.Week.unique()"
   ]
  },
  {
   "cell_type": "code",
   "execution_count": 140,
   "metadata": {},
   "outputs": [
    {
     "name": "stderr",
     "output_type": "stream",
     "text": [
      "C:\\Users\\Gautam\\Anaconda3\\lib\\site-packages\\pandas\\core\\generic.py:3643: SettingWithCopyWarning: \n",
      "A value is trying to be set on a copy of a slice from a DataFrame.\n",
      "Try using .loc[row_indexer,col_indexer] = value instead\n",
      "\n",
      "See the caveats in the documentation: http://pandas.pydata.org/pandas-docs/stable/indexing.html#indexing-view-versus-copy\n",
      "  self[name] = value\n"
     ]
    }
   ],
   "source": [
    "# For weeks which dont have data in them, we are imputing it with the mode bucket i.e bucket C\n",
    "weekly_data[weekly_data.Avg==-9999].discount_bucket='C'"
   ]
  },
  {
   "cell_type": "code",
   "execution_count": 141,
   "metadata": {},
   "outputs": [
    {
     "data": {
      "text/html": [
       "<div>\n",
       "<style scoped>\n",
       "    .dataframe tbody tr th:only-of-type {\n",
       "        vertical-align: middle;\n",
       "    }\n",
       "\n",
       "    .dataframe tbody tr th {\n",
       "        vertical-align: top;\n",
       "    }\n",
       "\n",
       "    .dataframe thead th {\n",
       "        text-align: right;\n",
       "    }\n",
       "</style>\n",
       "<table border=\"1\" class=\"dataframe\">\n",
       "  <thead>\n",
       "    <tr style=\"text-align: right;\">\n",
       "      <th></th>\n",
       "      <th>Week</th>\n",
       "      <th>Duration</th>\n",
       "      <th>Avg</th>\n",
       "      <th>discount_bucket</th>\n",
       "    </tr>\n",
       "  </thead>\n",
       "  <tbody>\n",
       "    <tr>\n",
       "      <th>0</th>\n",
       "      <td>1</td>\n",
       "      <td>07-02-2016 - 13-02-2016</td>\n",
       "      <td>0.326250</td>\n",
       "      <td>C</td>\n",
       "    </tr>\n",
       "    <tr>\n",
       "      <th>1</th>\n",
       "      <td>2</td>\n",
       "      <td>14-02-2016 - 20-02-2016</td>\n",
       "      <td>0.325313</td>\n",
       "      <td>C</td>\n",
       "    </tr>\n",
       "    <tr>\n",
       "      <th>2</th>\n",
       "      <td>3</td>\n",
       "      <td>21-02-2016 - 27-02-2016</td>\n",
       "      <td>0.326042</td>\n",
       "      <td>C</td>\n",
       "    </tr>\n",
       "    <tr>\n",
       "      <th>3</th>\n",
       "      <td>4</td>\n",
       "      <td>28-02-2016 - 05-03-2016</td>\n",
       "      <td>0.325000</td>\n",
       "      <td>C</td>\n",
       "    </tr>\n",
       "    <tr>\n",
       "      <th>4</th>\n",
       "      <td>5</td>\n",
       "      <td>06-03-2016 - 12-03-2016</td>\n",
       "      <td>0.325000</td>\n",
       "      <td>C</td>\n",
       "    </tr>\n",
       "    <tr>\n",
       "      <th>5</th>\n",
       "      <td>6</td>\n",
       "      <td>13-03-2016 - 19-03-2016</td>\n",
       "      <td>0.325000</td>\n",
       "      <td>C</td>\n",
       "    </tr>\n",
       "    <tr>\n",
       "      <th>6</th>\n",
       "      <td>7</td>\n",
       "      <td>20-03-2016 - 26-03-2016</td>\n",
       "      <td>0.238750</td>\n",
       "      <td>C</td>\n",
       "    </tr>\n",
       "    <tr>\n",
       "      <th>7</th>\n",
       "      <td>8</td>\n",
       "      <td>27-03-2016 - 02-04-2016</td>\n",
       "      <td>0.162500</td>\n",
       "      <td>B</td>\n",
       "    </tr>\n",
       "    <tr>\n",
       "      <th>8</th>\n",
       "      <td>9</td>\n",
       "      <td>03-04-2016 - 09-04-2016</td>\n",
       "      <td>0.325500</td>\n",
       "      <td>C</td>\n",
       "    </tr>\n",
       "    <tr>\n",
       "      <th>9</th>\n",
       "      <td>10</td>\n",
       "      <td>10-04-2016 - 16-04-2016</td>\n",
       "      <td>0.325833</td>\n",
       "      <td>C</td>\n",
       "    </tr>\n",
       "    <tr>\n",
       "      <th>10</th>\n",
       "      <td>11</td>\n",
       "      <td>17-04-2016 - 23-04-2016</td>\n",
       "      <td>0.325000</td>\n",
       "      <td>C</td>\n",
       "    </tr>\n",
       "    <tr>\n",
       "      <th>11</th>\n",
       "      <td>12</td>\n",
       "      <td>24-04-2016 - 30-04-2016</td>\n",
       "      <td>0.325313</td>\n",
       "      <td>C</td>\n",
       "    </tr>\n",
       "    <tr>\n",
       "      <th>12</th>\n",
       "      <td>13</td>\n",
       "      <td>01-05-2016 - 07-05-2016</td>\n",
       "      <td>0.326250</td>\n",
       "      <td>C</td>\n",
       "    </tr>\n",
       "    <tr>\n",
       "      <th>13</th>\n",
       "      <td>14</td>\n",
       "      <td>08-05-2016 - 14-05-2016</td>\n",
       "      <td>0.284531</td>\n",
       "      <td>C</td>\n",
       "    </tr>\n",
       "    <tr>\n",
       "      <th>14</th>\n",
       "      <td>15</td>\n",
       "      <td>15-05-2016 - 21-05-2016</td>\n",
       "      <td>0.276500</td>\n",
       "      <td>C</td>\n",
       "    </tr>\n",
       "    <tr>\n",
       "      <th>15</th>\n",
       "      <td>16</td>\n",
       "      <td>22-05-2016 - 28-05-2016</td>\n",
       "      <td>0.325000</td>\n",
       "      <td>C</td>\n",
       "    </tr>\n",
       "    <tr>\n",
       "      <th>16</th>\n",
       "      <td>17</td>\n",
       "      <td>29-05-2016 - 04-06-2016</td>\n",
       "      <td>0.308875</td>\n",
       "      <td>C</td>\n",
       "    </tr>\n",
       "    <tr>\n",
       "      <th>17</th>\n",
       "      <td>18</td>\n",
       "      <td>05-06-2016 - 11-06-2016</td>\n",
       "      <td>0.162500</td>\n",
       "      <td>B</td>\n",
       "    </tr>\n",
       "    <tr>\n",
       "      <th>18</th>\n",
       "      <td>19</td>\n",
       "      <td>12-06-2016 - 18-06-2016</td>\n",
       "      <td>0.326250</td>\n",
       "      <td>C</td>\n",
       "    </tr>\n",
       "    <tr>\n",
       "      <th>19</th>\n",
       "      <td>20</td>\n",
       "      <td>19-06-2016 - 25-06-2016</td>\n",
       "      <td>0.325000</td>\n",
       "      <td>C</td>\n",
       "    </tr>\n",
       "    <tr>\n",
       "      <th>20</th>\n",
       "      <td>21</td>\n",
       "      <td>26-06-2016 - 02-07-2016</td>\n",
       "      <td>0.255536</td>\n",
       "      <td>C</td>\n",
       "    </tr>\n",
       "    <tr>\n",
       "      <th>21</th>\n",
       "      <td>22</td>\n",
       "      <td>03-07-2016 - 09-07-2016</td>\n",
       "      <td>0.325313</td>\n",
       "      <td>C</td>\n",
       "    </tr>\n",
       "    <tr>\n",
       "      <th>22</th>\n",
       "      <td>23</td>\n",
       "      <td>10-07-2016 - 16-07-2016</td>\n",
       "      <td>0.325937</td>\n",
       "      <td>C</td>\n",
       "    </tr>\n",
       "    <tr>\n",
       "      <th>23</th>\n",
       "      <td>24</td>\n",
       "      <td>17-07-2016 - 23-07-2016</td>\n",
       "      <td>0.313750</td>\n",
       "      <td>C</td>\n",
       "    </tr>\n",
       "    <tr>\n",
       "      <th>24</th>\n",
       "      <td>25</td>\n",
       "      <td>24-07-2016 - 30-07-2016</td>\n",
       "      <td>0.372083</td>\n",
       "      <td>D</td>\n",
       "    </tr>\n",
       "    <tr>\n",
       "      <th>25</th>\n",
       "      <td>26</td>\n",
       "      <td>31-07-2016 - 06-08-2016</td>\n",
       "      <td>0.343958</td>\n",
       "      <td>C</td>\n",
       "    </tr>\n",
       "    <tr>\n",
       "      <th>26</th>\n",
       "      <td>27</td>\n",
       "      <td>07-08-2016 - 13-08-2016</td>\n",
       "      <td>0.325500</td>\n",
       "      <td>C</td>\n",
       "    </tr>\n",
       "    <tr>\n",
       "      <th>27</th>\n",
       "      <td>28</td>\n",
       "      <td>14-08-2016 - 20-08-2016</td>\n",
       "      <td>0.325750</td>\n",
       "      <td>C</td>\n",
       "    </tr>\n",
       "    <tr>\n",
       "      <th>28</th>\n",
       "      <td>29</td>\n",
       "      <td>21-08-2016 - 27-08-2016</td>\n",
       "      <td>0.325000</td>\n",
       "      <td>C</td>\n",
       "    </tr>\n",
       "    <tr>\n",
       "      <th>29</th>\n",
       "      <td>30</td>\n",
       "      <td>28-08-2016 - 03-09-2016</td>\n",
       "      <td>-9999.000000</td>\n",
       "      <td>B</td>\n",
       "    </tr>\n",
       "    <tr>\n",
       "      <th>...</th>\n",
       "      <td>...</td>\n",
       "      <td>...</td>\n",
       "      <td>...</td>\n",
       "      <td>...</td>\n",
       "    </tr>\n",
       "    <tr>\n",
       "      <th>103</th>\n",
       "      <td>104</td>\n",
       "      <td>28-01-2018 - 03-02-2018</td>\n",
       "      <td>0.096992</td>\n",
       "      <td>B</td>\n",
       "    </tr>\n",
       "    <tr>\n",
       "      <th>104</th>\n",
       "      <td>105</td>\n",
       "      <td>04-02-2018 - 10-02-2018</td>\n",
       "      <td>0.192669</td>\n",
       "      <td>B</td>\n",
       "    </tr>\n",
       "    <tr>\n",
       "      <th>105</th>\n",
       "      <td>106</td>\n",
       "      <td>11-02-2018 - 17-02-2018</td>\n",
       "      <td>0.053885</td>\n",
       "      <td>B</td>\n",
       "    </tr>\n",
       "    <tr>\n",
       "      <th>106</th>\n",
       "      <td>107</td>\n",
       "      <td>18-02-2018 - 24-02-2018</td>\n",
       "      <td>0.277569</td>\n",
       "      <td>C</td>\n",
       "    </tr>\n",
       "    <tr>\n",
       "      <th>107</th>\n",
       "      <td>108</td>\n",
       "      <td>25-02-2018 - 03-03-2018</td>\n",
       "      <td>0.080827</td>\n",
       "      <td>B</td>\n",
       "    </tr>\n",
       "    <tr>\n",
       "      <th>108</th>\n",
       "      <td>109</td>\n",
       "      <td>04-03-2018 - 10-03-2018</td>\n",
       "      <td>0.234806</td>\n",
       "      <td>C</td>\n",
       "    </tr>\n",
       "    <tr>\n",
       "      <th>109</th>\n",
       "      <td>110</td>\n",
       "      <td>11-03-2018 - 17-03-2018</td>\n",
       "      <td>0.107769</td>\n",
       "      <td>B</td>\n",
       "    </tr>\n",
       "    <tr>\n",
       "      <th>110</th>\n",
       "      <td>111</td>\n",
       "      <td>18-03-2018 - 24-03-2018</td>\n",
       "      <td>0.277256</td>\n",
       "      <td>C</td>\n",
       "    </tr>\n",
       "    <tr>\n",
       "      <th>111</th>\n",
       "      <td>112</td>\n",
       "      <td>25-03-2018 - 31-03-2018</td>\n",
       "      <td>0.202538</td>\n",
       "      <td>C</td>\n",
       "    </tr>\n",
       "    <tr>\n",
       "      <th>112</th>\n",
       "      <td>113</td>\n",
       "      <td>01-04-2018 - 07-04-2018</td>\n",
       "      <td>-9999.000000</td>\n",
       "      <td>B</td>\n",
       "    </tr>\n",
       "    <tr>\n",
       "      <th>113</th>\n",
       "      <td>114</td>\n",
       "      <td>08-04-2018 - 14-04-2018</td>\n",
       "      <td>0.246366</td>\n",
       "      <td>C</td>\n",
       "    </tr>\n",
       "    <tr>\n",
       "      <th>114</th>\n",
       "      <td>115</td>\n",
       "      <td>15-04-2018 - 21-04-2018</td>\n",
       "      <td>0.179323</td>\n",
       "      <td>B</td>\n",
       "    </tr>\n",
       "    <tr>\n",
       "      <th>115</th>\n",
       "      <td>116</td>\n",
       "      <td>22-04-2018 - 28-04-2018</td>\n",
       "      <td>0.273810</td>\n",
       "      <td>C</td>\n",
       "    </tr>\n",
       "    <tr>\n",
       "      <th>116</th>\n",
       "      <td>117</td>\n",
       "      <td>29-04-2018 - 05-05-2018</td>\n",
       "      <td>0.186404</td>\n",
       "      <td>B</td>\n",
       "    </tr>\n",
       "    <tr>\n",
       "      <th>117</th>\n",
       "      <td>118</td>\n",
       "      <td>06-05-2018 - 12-05-2018</td>\n",
       "      <td>0.281746</td>\n",
       "      <td>C</td>\n",
       "    </tr>\n",
       "    <tr>\n",
       "      <th>118</th>\n",
       "      <td>119</td>\n",
       "      <td>13-05-2018 - 19-05-2018</td>\n",
       "      <td>0.223684</td>\n",
       "      <td>C</td>\n",
       "    </tr>\n",
       "    <tr>\n",
       "      <th>119</th>\n",
       "      <td>120</td>\n",
       "      <td>20-05-2018 - 26-05-2018</td>\n",
       "      <td>0.251880</td>\n",
       "      <td>C</td>\n",
       "    </tr>\n",
       "    <tr>\n",
       "      <th>120</th>\n",
       "      <td>121</td>\n",
       "      <td>27-05-2018 - 02-06-2018</td>\n",
       "      <td>0.238722</td>\n",
       "      <td>C</td>\n",
       "    </tr>\n",
       "    <tr>\n",
       "      <th>121</th>\n",
       "      <td>122</td>\n",
       "      <td>03-06-2018 - 09-06-2018</td>\n",
       "      <td>0.313283</td>\n",
       "      <td>C</td>\n",
       "    </tr>\n",
       "    <tr>\n",
       "      <th>122</th>\n",
       "      <td>123</td>\n",
       "      <td>10-06-2018 - 16-06-2018</td>\n",
       "      <td>0.239599</td>\n",
       "      <td>C</td>\n",
       "    </tr>\n",
       "    <tr>\n",
       "      <th>123</th>\n",
       "      <td>124</td>\n",
       "      <td>17-06-2018 - 23-06-2018</td>\n",
       "      <td>0.279866</td>\n",
       "      <td>C</td>\n",
       "    </tr>\n",
       "    <tr>\n",
       "      <th>124</th>\n",
       "      <td>125</td>\n",
       "      <td>24-06-2018 - 30-06-2018</td>\n",
       "      <td>0.241318</td>\n",
       "      <td>C</td>\n",
       "    </tr>\n",
       "    <tr>\n",
       "      <th>125</th>\n",
       "      <td>126</td>\n",
       "      <td>01-07-2018 - 07-07-2018</td>\n",
       "      <td>0.298350</td>\n",
       "      <td>C</td>\n",
       "    </tr>\n",
       "    <tr>\n",
       "      <th>126</th>\n",
       "      <td>127</td>\n",
       "      <td>08-07-2018 - 14-07-2018</td>\n",
       "      <td>0.205096</td>\n",
       "      <td>C</td>\n",
       "    </tr>\n",
       "    <tr>\n",
       "      <th>127</th>\n",
       "      <td>128</td>\n",
       "      <td>15-07-2018 - 21-07-2018</td>\n",
       "      <td>0.289578</td>\n",
       "      <td>C</td>\n",
       "    </tr>\n",
       "    <tr>\n",
       "      <th>128</th>\n",
       "      <td>129</td>\n",
       "      <td>22-07-2018 - 28-07-2018</td>\n",
       "      <td>0.298663</td>\n",
       "      <td>C</td>\n",
       "    </tr>\n",
       "    <tr>\n",
       "      <th>129</th>\n",
       "      <td>130</td>\n",
       "      <td>29-07-2018 - 04-08-2018</td>\n",
       "      <td>0.254135</td>\n",
       "      <td>C</td>\n",
       "    </tr>\n",
       "    <tr>\n",
       "      <th>130</th>\n",
       "      <td>131</td>\n",
       "      <td>05-08-2018 - 11-08-2018</td>\n",
       "      <td>0.303509</td>\n",
       "      <td>C</td>\n",
       "    </tr>\n",
       "    <tr>\n",
       "      <th>131</th>\n",
       "      <td>132</td>\n",
       "      <td>12-08-2018 - 18-08-2018</td>\n",
       "      <td>0.285923</td>\n",
       "      <td>C</td>\n",
       "    </tr>\n",
       "    <tr>\n",
       "      <th>132</th>\n",
       "      <td>133</td>\n",
       "      <td>19-08-2018 - 25-08-2018</td>\n",
       "      <td>0.301253</td>\n",
       "      <td>C</td>\n",
       "    </tr>\n",
       "  </tbody>\n",
       "</table>\n",
       "<p>133 rows × 4 columns</p>\n",
       "</div>"
      ],
      "text/plain": [
       "     Week                 Duration          Avg discount_bucket\n",
       "0       1  07-02-2016 - 13-02-2016     0.326250               C\n",
       "1       2  14-02-2016 - 20-02-2016     0.325313               C\n",
       "2       3  21-02-2016 - 27-02-2016     0.326042               C\n",
       "3       4  28-02-2016 - 05-03-2016     0.325000               C\n",
       "4       5  06-03-2016 - 12-03-2016     0.325000               C\n",
       "5       6  13-03-2016 - 19-03-2016     0.325000               C\n",
       "6       7  20-03-2016 - 26-03-2016     0.238750               C\n",
       "7       8  27-03-2016 - 02-04-2016     0.162500               B\n",
       "8       9  03-04-2016 - 09-04-2016     0.325500               C\n",
       "9      10  10-04-2016 - 16-04-2016     0.325833               C\n",
       "10     11  17-04-2016 - 23-04-2016     0.325000               C\n",
       "11     12  24-04-2016 - 30-04-2016     0.325313               C\n",
       "12     13  01-05-2016 - 07-05-2016     0.326250               C\n",
       "13     14  08-05-2016 - 14-05-2016     0.284531               C\n",
       "14     15  15-05-2016 - 21-05-2016     0.276500               C\n",
       "15     16  22-05-2016 - 28-05-2016     0.325000               C\n",
       "16     17  29-05-2016 - 04-06-2016     0.308875               C\n",
       "17     18  05-06-2016 - 11-06-2016     0.162500               B\n",
       "18     19  12-06-2016 - 18-06-2016     0.326250               C\n",
       "19     20  19-06-2016 - 25-06-2016     0.325000               C\n",
       "20     21  26-06-2016 - 02-07-2016     0.255536               C\n",
       "21     22  03-07-2016 - 09-07-2016     0.325313               C\n",
       "22     23  10-07-2016 - 16-07-2016     0.325937               C\n",
       "23     24  17-07-2016 - 23-07-2016     0.313750               C\n",
       "24     25  24-07-2016 - 30-07-2016     0.372083               D\n",
       "25     26  31-07-2016 - 06-08-2016     0.343958               C\n",
       "26     27  07-08-2016 - 13-08-2016     0.325500               C\n",
       "27     28  14-08-2016 - 20-08-2016     0.325750               C\n",
       "28     29  21-08-2016 - 27-08-2016     0.325000               C\n",
       "29     30  28-08-2016 - 03-09-2016 -9999.000000               B\n",
       "..    ...                      ...          ...             ...\n",
       "103   104  28-01-2018 - 03-02-2018     0.096992               B\n",
       "104   105  04-02-2018 - 10-02-2018     0.192669               B\n",
       "105   106  11-02-2018 - 17-02-2018     0.053885               B\n",
       "106   107  18-02-2018 - 24-02-2018     0.277569               C\n",
       "107   108  25-02-2018 - 03-03-2018     0.080827               B\n",
       "108   109  04-03-2018 - 10-03-2018     0.234806               C\n",
       "109   110  11-03-2018 - 17-03-2018     0.107769               B\n",
       "110   111  18-03-2018 - 24-03-2018     0.277256               C\n",
       "111   112  25-03-2018 - 31-03-2018     0.202538               C\n",
       "112   113  01-04-2018 - 07-04-2018 -9999.000000               B\n",
       "113   114  08-04-2018 - 14-04-2018     0.246366               C\n",
       "114   115  15-04-2018 - 21-04-2018     0.179323               B\n",
       "115   116  22-04-2018 - 28-04-2018     0.273810               C\n",
       "116   117  29-04-2018 - 05-05-2018     0.186404               B\n",
       "117   118  06-05-2018 - 12-05-2018     0.281746               C\n",
       "118   119  13-05-2018 - 19-05-2018     0.223684               C\n",
       "119   120  20-05-2018 - 26-05-2018     0.251880               C\n",
       "120   121  27-05-2018 - 02-06-2018     0.238722               C\n",
       "121   122  03-06-2018 - 09-06-2018     0.313283               C\n",
       "122   123  10-06-2018 - 16-06-2018     0.239599               C\n",
       "123   124  17-06-2018 - 23-06-2018     0.279866               C\n",
       "124   125  24-06-2018 - 30-06-2018     0.241318               C\n",
       "125   126  01-07-2018 - 07-07-2018     0.298350               C\n",
       "126   127  08-07-2018 - 14-07-2018     0.205096               C\n",
       "127   128  15-07-2018 - 21-07-2018     0.289578               C\n",
       "128   129  22-07-2018 - 28-07-2018     0.298663               C\n",
       "129   130  29-07-2018 - 04-08-2018     0.254135               C\n",
       "130   131  05-08-2018 - 11-08-2018     0.303509               C\n",
       "131   132  12-08-2018 - 18-08-2018     0.285923               C\n",
       "132   133  19-08-2018 - 25-08-2018     0.301253               C\n",
       "\n",
       "[133 rows x 4 columns]"
      ]
     },
     "execution_count": 141,
     "metadata": {},
     "output_type": "execute_result"
    }
   ],
   "source": []
  },
  {
   "cell_type": "code",
   "execution_count": 142,
   "metadata": {},
   "outputs": [],
   "source": [
    "import pycrfsuite"
   ]
  },
  {
   "cell_type": "code",
   "execution_count": 148,
   "metadata": {},
   "outputs": [],
   "source": [
    "train=weekly_data[weekly_data.Week<=100]\n",
    "test=weekly_data[weekly_data.Week>100]"
   ]
  },
  {
   "cell_type": "code",
   "execution_count": 239,
   "metadata": {},
   "outputs": [],
   "source": [
    "y = list(train.discount_bucket)\n",
    "X = []\n",
    "for i in range(len(train)):\n",
    "    X.append(['bias', 'week=' + str(train.Week[i])])"
   ]
  },
  {
   "cell_type": "code",
   "execution_count": 240,
   "metadata": {},
   "outputs": [
    {
     "ename": "KeyError",
     "evalue": "99",
     "output_type": "error",
     "traceback": [
      "\u001b[1;31m---------------------------------------------------------------------------\u001b[0m",
      "\u001b[1;31mKeyError\u001b[0m                                  Traceback (most recent call last)",
      "\u001b[1;32m<ipython-input-240-47ffee7ed6ce>\u001b[0m in \u001b[0;36m<module>\u001b[1;34m()\u001b[0m\n\u001b[0;32m      1\u001b[0m \u001b[0mtest\u001b[0m \u001b[1;33m=\u001b[0m \u001b[0mtest\u001b[0m\u001b[1;33m.\u001b[0m\u001b[0mreset_index\u001b[0m\u001b[1;33m(\u001b[0m\u001b[0mdrop\u001b[0m\u001b[1;33m=\u001b[0m\u001b[1;36m1\u001b[0m\u001b[1;33m)\u001b[0m\u001b[1;33m\u001b[0m\u001b[0m\n\u001b[1;32m----> 2\u001b[1;33m \u001b[0mtest\u001b[0m\u001b[1;33m.\u001b[0m\u001b[0mAvg\u001b[0m\u001b[1;33m[\u001b[0m\u001b[0mi\u001b[0m\u001b[1;33m]\u001b[0m\u001b[1;33m\u001b[0m\u001b[0m\n\u001b[0m",
      "\u001b[1;32m~\\Anaconda3\\lib\\site-packages\\pandas\\core\\series.py\u001b[0m in \u001b[0;36m__getitem__\u001b[1;34m(self, key)\u001b[0m\n\u001b[0;32m    621\u001b[0m         \u001b[0mkey\u001b[0m \u001b[1;33m=\u001b[0m \u001b[0mcom\u001b[0m\u001b[1;33m.\u001b[0m\u001b[0m_apply_if_callable\u001b[0m\u001b[1;33m(\u001b[0m\u001b[0mkey\u001b[0m\u001b[1;33m,\u001b[0m \u001b[0mself\u001b[0m\u001b[1;33m)\u001b[0m\u001b[1;33m\u001b[0m\u001b[0m\n\u001b[0;32m    622\u001b[0m         \u001b[1;32mtry\u001b[0m\u001b[1;33m:\u001b[0m\u001b[1;33m\u001b[0m\u001b[0m\n\u001b[1;32m--> 623\u001b[1;33m             \u001b[0mresult\u001b[0m \u001b[1;33m=\u001b[0m \u001b[0mself\u001b[0m\u001b[1;33m.\u001b[0m\u001b[0mindex\u001b[0m\u001b[1;33m.\u001b[0m\u001b[0mget_value\u001b[0m\u001b[1;33m(\u001b[0m\u001b[0mself\u001b[0m\u001b[1;33m,\u001b[0m \u001b[0mkey\u001b[0m\u001b[1;33m)\u001b[0m\u001b[1;33m\u001b[0m\u001b[0m\n\u001b[0m\u001b[0;32m    624\u001b[0m \u001b[1;33m\u001b[0m\u001b[0m\n\u001b[0;32m    625\u001b[0m             \u001b[1;32mif\u001b[0m \u001b[1;32mnot\u001b[0m \u001b[0mis_scalar\u001b[0m\u001b[1;33m(\u001b[0m\u001b[0mresult\u001b[0m\u001b[1;33m)\u001b[0m\u001b[1;33m:\u001b[0m\u001b[1;33m\u001b[0m\u001b[0m\n",
      "\u001b[1;32m~\\Anaconda3\\lib\\site-packages\\pandas\\core\\indexes\\base.py\u001b[0m in \u001b[0;36mget_value\u001b[1;34m(self, series, key)\u001b[0m\n\u001b[0;32m   2558\u001b[0m         \u001b[1;32mtry\u001b[0m\u001b[1;33m:\u001b[0m\u001b[1;33m\u001b[0m\u001b[0m\n\u001b[0;32m   2559\u001b[0m             return self._engine.get_value(s, k,\n\u001b[1;32m-> 2560\u001b[1;33m                                           tz=getattr(series.dtype, 'tz', None))\n\u001b[0m\u001b[0;32m   2561\u001b[0m         \u001b[1;32mexcept\u001b[0m \u001b[0mKeyError\u001b[0m \u001b[1;32mas\u001b[0m \u001b[0me1\u001b[0m\u001b[1;33m:\u001b[0m\u001b[1;33m\u001b[0m\u001b[0m\n\u001b[0;32m   2562\u001b[0m             \u001b[1;32mif\u001b[0m \u001b[0mlen\u001b[0m\u001b[1;33m(\u001b[0m\u001b[0mself\u001b[0m\u001b[1;33m)\u001b[0m \u001b[1;33m>\u001b[0m \u001b[1;36m0\u001b[0m \u001b[1;32mand\u001b[0m \u001b[0mself\u001b[0m\u001b[1;33m.\u001b[0m\u001b[0minferred_type\u001b[0m \u001b[1;32min\u001b[0m \u001b[1;33m[\u001b[0m\u001b[1;34m'integer'\u001b[0m\u001b[1;33m,\u001b[0m \u001b[1;34m'boolean'\u001b[0m\u001b[1;33m]\u001b[0m\u001b[1;33m:\u001b[0m\u001b[1;33m\u001b[0m\u001b[0m\n",
      "\u001b[1;32mpandas/_libs/index.pyx\u001b[0m in \u001b[0;36mpandas._libs.index.IndexEngine.get_value\u001b[1;34m()\u001b[0m\n",
      "\u001b[1;32mpandas/_libs/index.pyx\u001b[0m in \u001b[0;36mpandas._libs.index.IndexEngine.get_value\u001b[1;34m()\u001b[0m\n",
      "\u001b[1;32mpandas/_libs/index.pyx\u001b[0m in \u001b[0;36mpandas._libs.index.IndexEngine.get_loc\u001b[1;34m()\u001b[0m\n",
      "\u001b[1;32mpandas/_libs/hashtable_class_helper.pxi\u001b[0m in \u001b[0;36mpandas._libs.hashtable.Int64HashTable.get_item\u001b[1;34m()\u001b[0m\n",
      "\u001b[1;32mpandas/_libs/hashtable_class_helper.pxi\u001b[0m in \u001b[0;36mpandas._libs.hashtable.Int64HashTable.get_item\u001b[1;34m()\u001b[0m\n",
      "\u001b[1;31mKeyError\u001b[0m: 99"
     ]
    }
   ],
   "source": [
    "test = test.reset_index(drop=1)\n",
    "test.Avg[i]"
   ]
  },
  {
   "cell_type": "code",
   "execution_count": 241,
   "metadata": {},
   "outputs": [],
   "source": [
    "trainer = pycrfsuite.Trainer(verbose=False)"
   ]
  },
  {
   "cell_type": "code",
   "execution_count": 242,
   "metadata": {},
   "outputs": [],
   "source": [
    "trainer.append(X,y)"
   ]
  },
  {
   "cell_type": "code",
   "execution_count": 243,
   "metadata": {},
   "outputs": [],
   "source": [
    "trainer.set_params({\n",
    "    'c1': 1.0,   # coefficient for L1 penalty\n",
    "    'c2': 1e-3,  # coefficient for L2 penalty\n",
    "    'max_iterations': 50,  # stop earlier\n",
    "\n",
    "    # include transitions that are possible, but not observed\n",
    "    'feature.possible_transitions': True\n",
    "})\n",
    "trainer.select('ap')\n",
    "#trainer.select('l2sgd')"
   ]
  },
  {
   "cell_type": "code",
   "execution_count": 244,
   "metadata": {},
   "outputs": [],
   "source": [
    "trainer.train('rajeshwari')"
   ]
  },
  {
   "cell_type": "code",
   "execution_count": 245,
   "metadata": {},
   "outputs": [
    {
     "data": {
      "text/plain": [
       "<contextlib.closing at 0x26a7b12ac88>"
      ]
     },
     "execution_count": 245,
     "metadata": {},
     "output_type": "execute_result"
    }
   ],
   "source": [
    "tagger = pycrfsuite.Tagger()\n",
    "tagger.open('rajeshwari')"
   ]
  },
  {
   "cell_type": "code",
   "execution_count": 246,
   "metadata": {},
   "outputs": [],
   "source": [
    "test = test.reset_index(drop=1)\n",
    "y1 = list(test.discount_bucket)\n",
    "X1 = []\n",
    "for i in range(len(test)):\n",
    "    X1.append(['bias', 'week=' + str(test.Week[i])])"
   ]
  },
  {
   "cell_type": "code",
   "execution_count": 255,
   "metadata": {},
   "outputs": [
    {
     "name": "stdout",
     "output_type": "stream",
     "text": [
      "['A', 'B', 'B', 'B', 'B', 'B', 'C', 'B', 'C', 'B', 'C', 'C', 'B', 'C', 'B', 'C', 'B', 'C', 'C', 'C', 'C', 'C', 'C', 'C', 'C', 'C', 'C', 'C', 'C', 'C', 'C', 'C', 'C']\n",
      "['C', 'C', 'C', 'C', 'C', 'C', 'C', 'C', 'C', 'C', 'C', 'C', 'C', 'C', 'C', 'C', 'C', 'C', 'C', 'C', 'C', 'C', 'C', 'C', 'C', 'C', 'C', 'C', 'C', 'C', 'C', 'C', 'C']\n"
     ]
    }
   ],
   "source": [
    "test_pred = (tagger.tag(X1))\n",
    "print(y1)\n",
    "print(test_pred)"
   ]
  },
  {
   "cell_type": "code",
   "execution_count": 247,
   "metadata": {},
   "outputs": [
    {
     "name": "stdout",
     "output_type": "stream",
     "text": [
      "['C', 'C', 'C', 'C', 'C', 'C', 'C', 'B', 'C', 'C', 'C', 'C', 'C', 'C', 'C', 'C', 'C', 'B', 'C', 'C', 'C', 'C', 'C', 'C', 'D', 'C', 'C', 'C', 'C', 'B', 'B', 'C', 'C', 'C', 'C', 'C', 'C', 'C', 'C', 'C', 'C', 'E', 'C', 'C', 'C', 'C', 'C', 'C', 'B', 'C', 'B', 'B', 'C', 'C', 'C', 'C', 'B', 'C', 'C', 'B', 'C', 'C', 'C', 'C', 'C', 'B', 'E', 'C', 'C', 'C', 'C', 'C', 'C', 'D', 'C', 'C', 'C', 'C', 'C', 'C', 'C', 'C', 'C', 'C', 'C', 'C', 'C', 'C', 'B', 'C', 'C', 'C', 'C', 'C', 'B', 'C', 'C', 'B', 'B', 'B']\n",
      "['C', 'C', 'C', 'C', 'C', 'C', 'C', 'C', 'C', 'C', 'C', 'C', 'C', 'C', 'C', 'C', 'C', 'C', 'C', 'C', 'C', 'C', 'C', 'C', 'C', 'C', 'C', 'C', 'C', 'C', 'C', 'C', 'C', 'C', 'C', 'C', 'C', 'C', 'C', 'C', 'C', 'C', 'C', 'C', 'C', 'C', 'C', 'C', 'C', 'C', 'C', 'C', 'C', 'C', 'C', 'C', 'C', 'C', 'C', 'C', 'C', 'C', 'C', 'C', 'C', 'C', 'C', 'C', 'C', 'C', 'C', 'C', 'C', 'C', 'C', 'C', 'C', 'C', 'C', 'C', 'C', 'C', 'C', 'C', 'C', 'C', 'C', 'C', 'C', 'C', 'C', 'C', 'C', 'C', 'C', 'C', 'C', 'C', 'C', 'B']\n"
     ]
    }
   ],
   "source": [
    "predictions = tagger.tag(X)\n",
    "print(y)\n",
    "print(predictions)"
   ]
  },
  {
   "cell_type": "code",
   "execution_count": 248,
   "metadata": {},
   "outputs": [],
   "source": [
    "counter = 0\n",
    "for i in range(0,len(y)):\n",
    "    if(predictions[i]==y[i]):\n",
    "        counter += 1 "
   ]
  },
  {
   "cell_type": "code",
   "execution_count": 249,
   "metadata": {},
   "outputs": [
    {
     "data": {
      "text/plain": [
       "0.82"
      ]
     },
     "execution_count": 249,
     "metadata": {},
     "output_type": "execute_result"
    }
   ],
   "source": [
    "counter /len(y)"
   ]
  },
  {
   "cell_type": "code",
   "execution_count": 253,
   "metadata": {},
   "outputs": [],
   "source": [
    "counter1 = 0\n",
    "for i in range(0,len(y1)):\n",
    "    if(test_pred==y1[i]):\n",
    "        counter1 += 1 "
   ]
  },
  {
   "cell_type": "code",
   "execution_count": 254,
   "metadata": {},
   "outputs": [
    {
     "data": {
      "text/plain": [
       "0.0"
      ]
     },
     "execution_count": 254,
     "metadata": {},
     "output_type": "execute_result"
    }
   ],
   "source": [
    "counter1/len(y1)"
   ]
  },
  {
   "cell_type": "code",
   "execution_count": null,
   "metadata": {},
   "outputs": [],
   "source": []
  }
 ],
 "metadata": {
  "kernelspec": {
   "display_name": "Python 3",
   "language": "python",
   "name": "python3"
  },
  "language_info": {
   "codemirror_mode": {
    "name": "ipython",
    "version": 3
   },
   "file_extension": ".py",
   "mimetype": "text/x-python",
   "name": "python",
   "nbconvert_exporter": "python",
   "pygments_lexer": "ipython3",
   "version": "3.6.4"
  }
 },
 "nbformat": 4,
 "nbformat_minor": 2
}
