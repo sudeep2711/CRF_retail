{
 "cells": [
  {
   "cell_type": "code",
   "execution_count": 1,
   "metadata": {},
   "outputs": [],
   "source": [
    "import pandas as pd\n",
    "import pycrfsuite"
   ]
  },
  {
   "cell_type": "code",
   "execution_count": 17,
   "metadata": {},
   "outputs": [],
   "source": [
    "cf = pd.read_csv('crf_test.csv')"
   ]
  },
  {
   "cell_type": "code",
   "execution_count": 9,
   "metadata": {},
   "outputs": [
    {
     "data": {
      "text/html": [
       "<div>\n",
       "<style scoped>\n",
       "    .dataframe tbody tr th:only-of-type {\n",
       "        vertical-align: middle;\n",
       "    }\n",
       "\n",
       "    .dataframe tbody tr th {\n",
       "        vertical-align: top;\n",
       "    }\n",
       "\n",
       "    .dataframe thead th {\n",
       "        text-align: right;\n",
       "    }\n",
       "</style>\n",
       "<table border=\"1\" class=\"dataframe\">\n",
       "  <thead>\n",
       "    <tr style=\"text-align: right;\">\n",
       "      <th></th>\n",
       "      <th>date</th>\n",
       "      <th>Discount</th>\n",
       "    </tr>\n",
       "  </thead>\n",
       "  <tbody>\n",
       "    <tr>\n",
       "      <th>0</th>\n",
       "      <td>20160131</td>\n",
       "      <td>0.32625</td>\n",
       "    </tr>\n",
       "    <tr>\n",
       "      <th>1</th>\n",
       "      <td>20160202</td>\n",
       "      <td>0.32625</td>\n",
       "    </tr>\n",
       "    <tr>\n",
       "      <th>2</th>\n",
       "      <td>20160208</td>\n",
       "      <td>0.32625</td>\n",
       "    </tr>\n",
       "    <tr>\n",
       "      <th>3</th>\n",
       "      <td>20160206</td>\n",
       "      <td>0.32625</td>\n",
       "    </tr>\n",
       "    <tr>\n",
       "      <th>4</th>\n",
       "      <td>20160218</td>\n",
       "      <td>0.32625</td>\n",
       "    </tr>\n",
       "  </tbody>\n",
       "</table>\n",
       "</div>"
      ],
      "text/plain": [
       "       date  Discount\n",
       "0  20160131   0.32625\n",
       "1  20160202   0.32625\n",
       "2  20160208   0.32625\n",
       "3  20160206   0.32625\n",
       "4  20160218   0.32625"
      ]
     },
     "execution_count": 9,
     "metadata": {},
     "output_type": "execute_result"
    }
   ],
   "source": [
    "cf.head()"
   ]
  },
  {
   "cell_type": "code",
   "execution_count": 91,
   "metadata": {},
   "outputs": [],
   "source": [
    "y=cf['Discount']\n",
    "X=['bias']+list((cf['date']))"
   ]
  },
  {
   "cell_type": "code",
   "execution_count": 82,
   "metadata": {},
   "outputs": [],
   "source": [
    "y = ['1','2','1']\n",
    "X = [['bias', 'Date=2'], ['bias', 'Date=1'], ['bias', 'Date=2']]"
   ]
  },
  {
   "cell_type": "code",
   "execution_count": 83,
   "metadata": {},
   "outputs": [
    {
     "data": {
      "text/plain": [
       "['bias', 'Date=2']"
      ]
     },
     "execution_count": 83,
     "metadata": {},
     "output_type": "execute_result"
    }
   ],
   "source": [
    "X[0]"
   ]
  },
  {
   "cell_type": "code",
   "execution_count": 84,
   "metadata": {},
   "outputs": [],
   "source": [
    "trainer = pycrfsuite.Trainer(verbose=False)"
   ]
  },
  {
   "cell_type": "code",
   "execution_count": 85,
   "metadata": {},
   "outputs": [],
   "source": [
    "trainer.append(X,y)"
   ]
  },
  {
   "cell_type": "code",
   "execution_count": 86,
   "metadata": {},
   "outputs": [],
   "source": [
    "trainer.set_params({\n",
    "    'c1': 1.0,   # coefficient for L1 penalty\n",
    "    'c2': 1e-3,  # coefficient for L2 penalty\n",
    "    'max_iterations': 50,  # stop earlier\n",
    "\n",
    "    # include transitions that are possible, but not observed\n",
    "    'feature.possible_transitions': True\n",
    "})"
   ]
  },
  {
   "cell_type": "code",
   "execution_count": 87,
   "metadata": {},
   "outputs": [],
   "source": [
    "trainer.train('trial')"
   ]
  },
  {
   "cell_type": "code",
   "execution_count": 88,
   "metadata": {},
   "outputs": [],
   "source": []
  },
  {
   "cell_type": "code",
   "execution_count": 89,
   "metadata": {},
   "outputs": [
    {
     "data": {
      "text/plain": [
       "<contextlib.closing at 0x23f1e8194e0>"
      ]
     },
     "execution_count": 89,
     "metadata": {},
     "output_type": "execute_result"
    }
   ],
   "source": [
    "tagger = pycrfsuite.Tagger()\n",
    "tagger.open('trial')"
   ]
  },
  {
   "cell_type": "code",
   "execution_count": 90,
   "metadata": {},
   "outputs": [
    {
     "name": "stdout",
     "output_type": "stream",
     "text": [
      "['1', '1', '1']\n"
     ]
    }
   ],
   "source": [
    "print(tagger.tag(X))\n"
   ]
  },
  {
   "cell_type": "code",
   "execution_count": null,
   "metadata": {},
   "outputs": [],
   "source": []
  },
  {
   "cell_type": "code",
   "execution_count": null,
   "metadata": {},
   "outputs": [],
   "source": []
  },
  {
   "cell_type": "code",
   "execution_count": null,
   "metadata": {},
   "outputs": [],
   "source": []
  },
  {
   "cell_type": "code",
   "execution_count": 5,
   "metadata": {},
   "outputs": [],
   "source": [
    "cf['discount_percentage']=cf.discount/cf.price"
   ]
  },
  {
   "cell_type": "code",
   "execution_count": 6,
   "metadata": {},
   "outputs": [
    {
     "data": {
      "text/plain": [
       "array([234, 325, 454, 456, 458, 545, 546, 809, 478, 236, 321, 449, 448,\n",
       "       469, 486, 724, 468, 477, 485, 647, 707, 715, 726, 722, 747, 780,\n",
       "       782, 181, 377, 470, 719, 731, 748, 751, 778, 476, 541, 542, 547,\n",
       "       552, 651, 714, 749, 759, 784, 543, 730, 645, 710, 705, 742, 745,\n",
       "       210, 775, 774, 657, 716, 467, 479, 487, 180, 190, 355, 663, 658,\n",
       "       309, 646, 661, 178, 711, 721, 781, 776, 179, 779, 539, 212, 453,\n",
       "       551, 655, 650,  33, 472, 475, 192, 484, 704, 744, 473, 709, 740,\n",
       "       474, 785, 644, 649, 783, 389, 758, 544, 490, 550, 652, 746, 193,\n",
       "       450, 194, 237, 323, 540, 741, 447, 177, 439, 438, 720, 733, 768,\n",
       "       788, 712, 725, 869, 187, 717, 351, 359, 254, 706, 293, 435, 464,\n",
       "       735, 342, 549, 370, 426, 812, 253, 257, 660, 481, 457, 833, 832,\n",
       "       893, 260, 259, 264, 407, 654, 659, 137, 482, 750, 757, 786, 324,\n",
       "       656, 666, 310, 326, 739, 348, 480, 777, 648, 381, 138, 195, 553,\n",
       "       388, 483, 555, 664, 554, 667, 665, 556, 262, 732, 235, 263, 188,\n",
       "       211, 727, 752, 189, 255, 548, 662, 736, 653, 261, 387, 258, 270,\n",
       "       760, 787, 272, 489, 233, 256, 271, 668, 881, 405, 561, 280, 282,\n",
       "       567, 371, 559, 560, 274, 301, 562, 269, 340, 275, 313, 565, 143,\n",
       "       202, 246, 557, 344, 417, 566, 245, 373, 279, 273, 278, 462, 383,\n",
       "       564, 713, 121, 276, 558, 568, 247, 718, 120, 734, 874, 281, 873,\n",
       "       488, 239, 872, 400, 238, 122, 442, 441, 443, 277, 729, 124, 445,\n",
       "       430, 265, 288, 570, 591, 611, 151, 572, 610, 586, 574, 585, 620,\n",
       "       622, 150, 156, 153, 154, 287, 563, 573, 577, 579, 286, 621, 241,\n",
       "       266, 244, 243, 248, 580, 612, 625, 240, 242, 455, 590, 598, 594,\n",
       "       251, 569, 250, 285, 575, 571, 267, 613, 626, 252, 605, 607, 587,\n",
       "       284, 606, 602, 608, 595, 444, 609, 578, 604, 216, 596, 623, 429,\n",
       "       406, 157, 155,  39, 399, 592, 432, 576, 299, 433, 350, 627, 588,\n",
       "       603,  37, 372, 215,  43, 213, 374, 404, 463, 628, 401, 431, 600,\n",
       "       380, 466, 169, 589, 597, 593, 601, 871, 146, 219, 224, 226, 220,\n",
       "       221, 218, 403, 225,  42, 616, 227, 223, 217, 300, 152, 352, 434,\n",
       "       614, 402, 408, 420,  29, 599, 419, 268, 392, 422, 418,  30, 410,\n",
       "       166,  41, 158, 349, 353, 421, 161, 162, 629, 354, 160, 163, 369,\n",
       "       728, 391, 312, 516, 582, 229, 521, 311, 345, 518, 581, 347, 583,\n",
       "       523, 230, 517, 519, 512, 320, 437, 615, 164, 231, 228, 319, 436,\n",
       "       322, 452, 514, 511, 513, 584, 232, 522,  31, 737, 249, 123, 617,\n",
       "       339, 618, 875, 341, 346, 409, 356, 520, 440, 446, 302, 619, 222,\n",
       "       376, 378, 743, 624, 515, 460, 283, 459, 532, 534, 530, 527, 533,\n",
       "       526, 531, 375, 529, 528, 525, 524, 630, 634, 640, 385, 427, 708,\n",
       "       191, 892, 888, 897, 878, 884, 896, 899, 428, 870, 866, 877, 882,\n",
       "       902, 890, 343, 883, 876, 894, 214, 886, 384, 393, 465, 879, 889,\n",
       "       887, 903, 185, 898, 361, 386, 358, 360, 395, 766, 396, 357, 451,\n",
       "       362, 140, 141, 142, 144, 145, 327, 149, 885, 895, 900, 148, 147,\n",
       "       382, 425, 535, 638, 901, 905, 904, 891, 168, 810, 424, 738, 461,\n",
       "       880, 723, 328, 196, 165, 139, 297, 808, 423, 804, 503, 507, 494,\n",
       "       506, 493, 508, 510, 504, 509, 505, 491, 492, 829, 379, 390, 298,\n",
       "       292,   8, 173, 171, 635, 637, 632, 641, 639, 642, 295, 633, 172,\n",
       "       772, 816, 294, 290, 289, 291, 771, 688, 770, 471, 296, 303,  28,\n",
       "        32, 174,  13, 813, 796, 690, 363, 167, 794, 828, 858, 176, 184,\n",
       "       394, 769, 773,  40, 366, 500, 501, 499, 502, 693, 806, 811, 860,\n",
       "       814, 861, 859, 815, 802, 857, 631, 119,  36,  34,  35, 807, 805,\n",
       "        38, 795, 206, 867, 397, 831, 696,  25,  26, 175, 365, 182, 636,\n",
       "       398, 183, 801, 868, 364, 536,  23,  21, 852, 186, 797,  14, 367,\n",
       "       689, 117, 368, 803, 685, 114, 687, 686, 698, 790], dtype=int64)"
      ]
     },
     "execution_count": 6,
     "metadata": {},
     "output_type": "execute_result"
    }
   ],
   "source": [
    "for i in cf.sku.unique():\n",
    "    "
   ]
  }
 ],
 "metadata": {
  "kernelspec": {
   "display_name": "Python 3",
   "language": "python",
   "name": "python3"
  },
  "language_info": {
   "codemirror_mode": {
    "name": "ipython",
    "version": 3
   },
   "file_extension": ".py",
   "mimetype": "text/x-python",
   "name": "python",
   "nbconvert_exporter": "python",
   "pygments_lexer": "ipython3",
   "version": "3.6.4"
  }
 },
 "nbformat": 4,
 "nbformat_minor": 2
}
